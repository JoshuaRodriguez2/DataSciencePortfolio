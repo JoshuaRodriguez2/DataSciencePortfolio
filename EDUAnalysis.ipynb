{
 "cells": [
  {
   "cell_type": "markdown",
   "metadata": {},
   "source": [
    "# Education Index vs Human Development (Webscraping and Stat Models)"
   ]
  },
  {
   "cell_type": "markdown",
   "metadata": {},
   "source": [
    "## Packages:"
   ]
  },
  {
   "cell_type": "code",
   "execution_count": 13,
   "metadata": {},
   "outputs": [],
   "source": [
    "import requests\n",
    "from bs4 import BeautifulSoup\n",
    "import pandas as pd\n",
    "import matplotlib.pyplot as plt\n",
    "import seaborn as sns\n",
    "from os import path\n",
    "from wordcloud import WordCloud, STOPWORDS\n",
    "import scipy.stats\n",
    "import numpy as np"
   ]
  },
  {
   "cell_type": "code",
   "execution_count": 11,
   "metadata": {},
   "outputs": [
    {
     "name": "stdout",
     "output_type": "stream",
     "text": [
      "Collecting scipy\n",
      "  Downloading scipy-1.6.3-cp37-cp37m-macosx_10_9_x86_64.whl (30.7 MB)\n",
      "\u001b[K     |████████████████████████████████| 30.7 MB 14.9 MB/s eta 0:00:01\n",
      "\u001b[?25hRequirement already satisfied, skipping upgrade: numpy<1.23.0,>=1.16.5 in ./opt/anaconda3/lib/python3.7/site-packages (from scipy) (1.18.1)\n",
      "Installing collected packages: scipy\n",
      "  Attempting uninstall: scipy\n",
      "    Found existing installation: scipy 1.4.1\n",
      "    Uninstalling scipy-1.4.1:\n",
      "      Successfully uninstalled scipy-1.4.1\n",
      "Successfully installed scipy-1.6.3\n",
      "Note: you may need to restart the kernel to use updated packages.\n"
     ]
    }
   ],
   "source": [
    "pip install --upgrade scipy"
   ]
  },
  {
   "cell_type": "markdown",
   "metadata": {},
   "source": [
    "The following chunk of code utilizes packages BeautifulSoup, Requests, and Pandas to webscrape a table from Wikepedia. The table is about the educational and human Development indices around the world and is in row order by country rank. The variables within the dataframe will be:\n",
    "\n",
    "Expected yearsof schooling\n",
    "\n",
    "Mean years of schooling\n",
    "\n",
    "Education Index Value\n",
    "\n",
    "Rank (Education Index Rank)\n",
    "\n",
    "HDI Rank (Human Development Rank)\n"
   ]
  },
  {
   "cell_type": "code",
   "execution_count": 99,
   "metadata": {},
   "outputs": [
    {
     "data": {
      "text/html": [
       "<div>\n",
       "<style scoped>\n",
       "    .dataframe tbody tr th:only-of-type {\n",
       "        vertical-align: middle;\n",
       "    }\n",
       "\n",
       "    .dataframe tbody tr th {\n",
       "        vertical-align: top;\n",
       "    }\n",
       "\n",
       "    .dataframe thead th {\n",
       "        text-align: right;\n",
       "    }\n",
       "</style>\n",
       "<table border=\"1\" class=\"dataframe\">\n",
       "  <thead>\n",
       "    <tr style=\"text-align: right;\">\n",
       "      <th></th>\n",
       "      <th>Rank</th>\n",
       "      <th>Country</th>\n",
       "      <th>EducationIndex</th>\n",
       "      <th>Expected yearsof schooling</th>\n",
       "      <th>Mean years of schooling</th>\n",
       "      <th>HDI rank</th>\n",
       "      <th>Continent[6]\\n</th>\n",
       "    </tr>\n",
       "  </thead>\n",
       "  <tbody>\n",
       "    <tr>\n",
       "      <th>0</th>\n",
       "      <td>1</td>\n",
       "      <td>Australia</td>\n",
       "      <td>0.939</td>\n",
       "      <td>20.4</td>\n",
       "      <td>13.2</td>\n",
       "      <td>2</td>\n",
       "      <td>Oceania</td>\n",
       "    </tr>\n",
       "    <tr>\n",
       "      <th>1</th>\n",
       "      <td>2</td>\n",
       "      <td>Denmark</td>\n",
       "      <td>0.923</td>\n",
       "      <td>19.2</td>\n",
       "      <td>12.7</td>\n",
       "      <td>5</td>\n",
       "      <td>Europe</td>\n",
       "    </tr>\n",
       "    <tr>\n",
       "      <th>2</th>\n",
       "      <td>3</td>\n",
       "      <td>New Zealand</td>\n",
       "      <td>0.917</td>\n",
       "      <td>19.2</td>\n",
       "      <td>12.5</td>\n",
       "      <td>13</td>\n",
       "      <td>Oceania</td>\n",
       "    </tr>\n",
       "    <tr>\n",
       "      <th>3</th>\n",
       "      <td>4</td>\n",
       "      <td>Norway</td>\n",
       "      <td>0.916</td>\n",
       "      <td>17.7</td>\n",
       "      <td>12.7</td>\n",
       "      <td>1</td>\n",
       "      <td>Europe</td>\n",
       "    </tr>\n",
       "    <tr>\n",
       "      <th>4</th>\n",
       "      <td>5</td>\n",
       "      <td>Germany</td>\n",
       "      <td>0.914</td>\n",
       "      <td>17.1</td>\n",
       "      <td>13.2</td>\n",
       "      <td>4</td>\n",
       "      <td>Europe</td>\n",
       "    </tr>\n",
       "    <tr>\n",
       "      <th>...</th>\n",
       "      <td>...</td>\n",
       "      <td>...</td>\n",
       "      <td>...</td>\n",
       "      <td>...</td>\n",
       "      <td>...</td>\n",
       "      <td>...</td>\n",
       "      <td>...</td>\n",
       "    </tr>\n",
       "    <tr>\n",
       "      <th>183</th>\n",
       "      <td>184</td>\n",
       "      <td>South Sudan</td>\n",
       "      <td>0.297</td>\n",
       "      <td>4.9</td>\n",
       "      <td>4.8</td>\n",
       "      <td>181</td>\n",
       "      <td>Africa</td>\n",
       "    </tr>\n",
       "    <tr>\n",
       "      <th>184</th>\n",
       "      <td>185</td>\n",
       "      <td>Chad</td>\n",
       "      <td>0.280</td>\n",
       "      <td>7.3</td>\n",
       "      <td>2.3</td>\n",
       "      <td>186</td>\n",
       "      <td>Africa</td>\n",
       "    </tr>\n",
       "    <tr>\n",
       "      <th>185</th>\n",
       "      <td>186</td>\n",
       "      <td>Eritrea</td>\n",
       "      <td>0.267</td>\n",
       "      <td>5.0</td>\n",
       "      <td>3.9</td>\n",
       "      <td>179</td>\n",
       "      <td>Africa</td>\n",
       "    </tr>\n",
       "    <tr>\n",
       "      <th>186</th>\n",
       "      <td>187</td>\n",
       "      <td>Burkina Faso</td>\n",
       "      <td>0.262</td>\n",
       "      <td>7.7</td>\n",
       "      <td>1.4</td>\n",
       "      <td>185</td>\n",
       "      <td>Africa</td>\n",
       "    </tr>\n",
       "    <tr>\n",
       "      <th>187</th>\n",
       "      <td>188</td>\n",
       "      <td>Niger</td>\n",
       "      <td>0.206</td>\n",
       "      <td>5.4</td>\n",
       "      <td>1.7</td>\n",
       "      <td>187</td>\n",
       "      <td>Africa</td>\n",
       "    </tr>\n",
       "  </tbody>\n",
       "</table>\n",
       "<p>188 rows × 7 columns</p>\n",
       "</div>"
      ],
      "text/plain": [
       "    Rank        Country EducationIndex Expected yearsof schooling  \\\n",
       "0      1      Australia          0.939                       20.4   \n",
       "1      2        Denmark          0.923                       19.2   \n",
       "2      3    New Zealand          0.917                       19.2   \n",
       "3      4         Norway          0.916                       17.7   \n",
       "4      5        Germany          0.914                       17.1   \n",
       "..   ...            ...            ...                        ...   \n",
       "183  184    South Sudan          0.297                        4.9   \n",
       "184  185           Chad          0.280                        7.3   \n",
       "185  186        Eritrea          0.267                        5.0   \n",
       "186  187   Burkina Faso          0.262                        7.7   \n",
       "187  188          Niger          0.206                        5.4   \n",
       "\n",
       "    Mean years of schooling HDI rank Continent[6]\\n  \n",
       "0                      13.2        2        Oceania  \n",
       "1                      12.7        5         Europe  \n",
       "2                      12.5       13        Oceania  \n",
       "3                      12.7        1         Europe  \n",
       "4                      13.2        4         Europe  \n",
       "..                      ...      ...            ...  \n",
       "183                     4.8      181         Africa  \n",
       "184                     2.3      186         Africa  \n",
       "185                     3.9      179         Africa  \n",
       "186                     1.4      185         Africa  \n",
       "187                     1.7      187         Africa  \n",
       "\n",
       "[188 rows x 7 columns]"
      ]
     },
     "execution_count": 99,
     "metadata": {},
     "output_type": "execute_result"
    }
   ],
   "source": [
    "url='https://en.wikipedia.org/wiki/Education_Index'\n",
    "response=requests.get(url)\n",
    "soup= BeautifulSoup(response.text,'html.parser')\n",
    "table = soup.find('table', 'wikitable sortable mw-collapsible')\n",
    "#print(table)\n",
    "rows = table.find_all('tr')\n",
    "columns= [v.text for v in rows[0].find_all('th')]\n",
    "df = pd.DataFrame(columns=columns)\n",
    "for i in range(1, len(rows)):\n",
    "    tds=rows[i].find_all('td')\n",
    "    \n",
    "    if len(tds)== 4:\n",
    "        values= [tds[0].text,tds[1].text,'',tds[2].text,tds[3].text]\n",
    "    else:\n",
    "        values=[td.text.replace('\\n','') for td in tds]\n",
    "    df = df.append(pd.Series(values, index=columns),ignore_index=True)\n",
    "df"
   ]
  },
  {
   "cell_type": "markdown",
   "metadata": {},
   "source": [
    "The following chunk of code is  seasborn boxplot that dispalys the mean number of years in schooling between the seven different continents, this gives an idea of what the different nations Education Index might be and also give insights on the oppurtunity of each continents citizens"
   ]
  },
  {
   "cell_type": "code",
   "execution_count": 110,
   "metadata": {},
   "outputs": [
    {
     "data": {
      "image/png": "[encoded data removed]",
      "text/plain": [
       "<Figure size 432x288 with 1 Axes>"
      ]
     },
     "metadata": {
      "needs_background": "light"
     },
     "output_type": "display_data"
    }
   ],
   "source": [
    "df[\"Mean years of schooling\"] = pd.to_numeric(df[\"Mean years of schooling\"])\n",
    "ax = sns.boxplot(x=\"Continent[6]\\n\",y=\"Mean years of schooling\", data=df)"
   ]
  },
  {
   "cell_type": "markdown",
   "metadata": {},
   "source": [
    "The insights gained from the seaborn boxplot are that there is a vast difference in the average educational years per citizen across the seven continents. Africa is far behind withe their mean around 5 and their furthest outlier being around the mean of Oceania. South America is seocnd to last while Europe and Oceania are the top two."
   ]
  },
  {
   "cell_type": "code",
   "execution_count": 111,
   "metadata": {},
   "outputs": [
    {
     "data": {
      "image/png": "[encoded data removed]",
      "text/plain": [
       "<Figure size 360x360 with 1 Axes>"
      ]
     },
     "metadata": {
      "needs_background": "light"
     },
     "output_type": "display_data"
    }
   ],
   "source": [
    "df[\"EducationIndex\"] = pd.to_numeric(df[\"EducationIndex\"])\n",
    "sns.lmplot(x=\"EducationIndex\", y=\"Mean years of schooling\", data=df);"
   ]
  },
  {
   "cell_type": "markdown",
   "metadata": {},
   "source": [
    "Next I ran a correlation calculation which returns a matrix that has the correlation value between all the variables. While all the values give inisght I was most interested in specifically the value between EducationIndex & Mean years of schooling since i could visually see that there was some sort of linear relationship between them via the linear regression graph above.\n",
    "\n",
    "Indeed there was a very good indication from the correlation value that the two variables are strongly linearly related as their correlation value comes out to 0.965157 very close to a perfect linear relationship of 1.0"
   ]
  },
  {
   "cell_type": "code",
   "execution_count": 112,
   "metadata": {},
   "outputs": [
    {
     "data": {
      "text/html": [
       "<div>\n",
       "<style scoped>\n",
       "    .dataframe tbody tr th:only-of-type {\n",
       "        vertical-align: middle;\n",
       "    }\n",
       "\n",
       "    .dataframe tbody tr th {\n",
       "        vertical-align: top;\n",
       "    }\n",
       "\n",
       "    .dataframe thead th {\n",
       "        text-align: right;\n",
       "    }\n",
       "</style>\n",
       "<table border=\"1\" class=\"dataframe\">\n",
       "  <thead>\n",
       "    <tr style=\"text-align: right;\">\n",
       "      <th></th>\n",
       "      <th>EducationIndex</th>\n",
       "      <th>Mean years of schooling</th>\n",
       "      <th>HDI rank</th>\n",
       "    </tr>\n",
       "  </thead>\n",
       "  <tbody>\n",
       "    <tr>\n",
       "      <th>EducationIndex</th>\n",
       "      <td>1.000000</td>\n",
       "      <td>0.965157</td>\n",
       "      <td>-0.940836</td>\n",
       "    </tr>\n",
       "    <tr>\n",
       "      <th>Mean years of schooling</th>\n",
       "      <td>0.965157</td>\n",
       "      <td>1.000000</td>\n",
       "      <td>-0.889227</td>\n",
       "    </tr>\n",
       "    <tr>\n",
       "      <th>HDI rank</th>\n",
       "      <td>-0.940836</td>\n",
       "      <td>-0.889227</td>\n",
       "      <td>1.000000</td>\n",
       "    </tr>\n",
       "  </tbody>\n",
       "</table>\n",
       "</div>"
      ],
      "text/plain": [
       "                         EducationIndex  Mean years of schooling  HDI rank\n",
       "EducationIndex                 1.000000                 0.965157 -0.940836\n",
       "Mean years of schooling        0.965157                 1.000000 -0.889227\n",
       "HDI rank                      -0.940836                -0.889227  1.000000"
      ]
     },
     "execution_count": 112,
     "metadata": {},
     "output_type": "execute_result"
    }
   ],
   "source": [
    "correlnon=df.corr()\n",
    "correlnon"
   ]
  },
  {
   "cell_type": "code",
   "execution_count": 106,
   "metadata": {},
   "outputs": [
    {
     "data": {
      "text/plain": [
       "0.6400372340425531"
      ]
     },
     "execution_count": 106,
     "metadata": {},
     "output_type": "execute_result"
    }
   ],
   "source": [
    "mean_df=df['EducationIndex'].mean()\n",
    "std_df=np.std(df.EducationIndex)"
   ]
  },
  {
   "cell_type": "markdown",
   "metadata": {},
   "source": [
    "With this insight we can assume that the Educationindex vs Continent would have a very similar distribution as shown in the Mean years of schooling vs Continent boxplot."
   ]
  },
  {
   "cell_type": "markdown",
   "metadata": {},
   "source": [
    "  "
   ]
  },
  {
   "cell_type": "code",
   "execution_count": 35,
   "metadata": {
    "scrolled": true
   },
   "outputs": [
    {
     "data": {
      "image/png": "[encoded data removed]",
      "text/plain": [
       "<Figure size 432x288 with 1 Axes>"
      ]
     },
     "metadata": {
      "needs_background": "light"
     },
     "output_type": "display_data"
    }
   ],
   "source": [
    "x =df['EducationIndex']\n",
    "y = scipy.stats.norm.pdf(x,mean_df,std_df)\n",
    "plt.plot(x,y, color='coral')\n",
    "plt.grid()\n",
    "plt.xlim(0.2,0.94)\n",
    "plt.ylim(0.05,2.75)\n",
    "plt.title('Distribution of Education Index Value per Nation',fontsize=14)\n",
    "plt.xlabel('Education Index Value')\n",
    "plt.ylabel('Normal Distr.')\n",
    "plt.show()"
   ]
  },
  {
   "cell_type": "markdown",
   "metadata": {},
   "source": []
  },
  {
   "cell_type": "markdown",
   "metadata": {},
   "source": [
    "Now in order to more efficietly run a t-test on the HDI Rank i will turn the rank into a relative value between 0 and 1 where 1 is the highest HDI Rank and 0 is the lowest possible. (Australia will have highest value and Niger will have lowest value. \n",
    "\n",
    "The purpose of this is to split the countries from bottom 50% and top 50% based on their Education Index (from nthe normal distribution graph) then run a t-test on the two groups HDI Rank. The reason for this is because higher value throughout the rest of the data set (besides rank) is a positive indicator, so the HDI rank from 1-187 would of been confusing to use for me."
   ]
  },
  {
   "cell_type": "code",
   "execution_count": 116,
   "metadata": {},
   "outputs": [
    {
     "data": {
      "text/html": [
       "<div>\n",
       "<style scoped>\n",
       "    .dataframe tbody tr th:only-of-type {\n",
       "        vertical-align: middle;\n",
       "    }\n",
       "\n",
       "    .dataframe tbody tr th {\n",
       "        vertical-align: top;\n",
       "    }\n",
       "\n",
       "    .dataframe thead th {\n",
       "        text-align: right;\n",
       "    }\n",
       "</style>\n",
       "<table border=\"1\" class=\"dataframe\">\n",
       "  <thead>\n",
       "    <tr style=\"text-align: right;\">\n",
       "      <th></th>\n",
       "      <th>Rank</th>\n",
       "      <th>Country</th>\n",
       "      <th>EducationIndex</th>\n",
       "      <th>Expected yearsof schooling</th>\n",
       "      <th>Mean years of schooling</th>\n",
       "      <th>HDI rank</th>\n",
       "      <th>Continent[6]\\n</th>\n",
       "      <th>HDI value</th>\n",
       "    </tr>\n",
       "  </thead>\n",
       "  <tbody>\n",
       "    <tr>\n",
       "      <th>0</th>\n",
       "      <td>1</td>\n",
       "      <td>Australia</td>\n",
       "      <td>0.939</td>\n",
       "      <td>20.4</td>\n",
       "      <td>13.2</td>\n",
       "      <td>2</td>\n",
       "      <td>Oceania</td>\n",
       "      <td>0.989362</td>\n",
       "    </tr>\n",
       "    <tr>\n",
       "      <th>1</th>\n",
       "      <td>2</td>\n",
       "      <td>Denmark</td>\n",
       "      <td>0.923</td>\n",
       "      <td>19.2</td>\n",
       "      <td>12.7</td>\n",
       "      <td>5</td>\n",
       "      <td>Europe</td>\n",
       "      <td>0.973404</td>\n",
       "    </tr>\n",
       "    <tr>\n",
       "      <th>2</th>\n",
       "      <td>3</td>\n",
       "      <td>New Zealand</td>\n",
       "      <td>0.917</td>\n",
       "      <td>19.2</td>\n",
       "      <td>12.5</td>\n",
       "      <td>13</td>\n",
       "      <td>Oceania</td>\n",
       "      <td>0.930851</td>\n",
       "    </tr>\n",
       "    <tr>\n",
       "      <th>3</th>\n",
       "      <td>4</td>\n",
       "      <td>Norway</td>\n",
       "      <td>0.916</td>\n",
       "      <td>17.7</td>\n",
       "      <td>12.7</td>\n",
       "      <td>1</td>\n",
       "      <td>Europe</td>\n",
       "      <td>0.994681</td>\n",
       "    </tr>\n",
       "    <tr>\n",
       "      <th>4</th>\n",
       "      <td>5</td>\n",
       "      <td>Germany</td>\n",
       "      <td>0.914</td>\n",
       "      <td>17.1</td>\n",
       "      <td>13.2</td>\n",
       "      <td>4</td>\n",
       "      <td>Europe</td>\n",
       "      <td>0.978723</td>\n",
       "    </tr>\n",
       "    <tr>\n",
       "      <th>...</th>\n",
       "      <td>...</td>\n",
       "      <td>...</td>\n",
       "      <td>...</td>\n",
       "      <td>...</td>\n",
       "      <td>...</td>\n",
       "      <td>...</td>\n",
       "      <td>...</td>\n",
       "      <td>...</td>\n",
       "    </tr>\n",
       "    <tr>\n",
       "      <th>183</th>\n",
       "      <td>184</td>\n",
       "      <td>South Sudan</td>\n",
       "      <td>0.297</td>\n",
       "      <td>4.9</td>\n",
       "      <td>4.8</td>\n",
       "      <td>181</td>\n",
       "      <td>Africa</td>\n",
       "      <td>0.037234</td>\n",
       "    </tr>\n",
       "    <tr>\n",
       "      <th>184</th>\n",
       "      <td>185</td>\n",
       "      <td>Chad</td>\n",
       "      <td>0.280</td>\n",
       "      <td>7.3</td>\n",
       "      <td>2.3</td>\n",
       "      <td>186</td>\n",
       "      <td>Africa</td>\n",
       "      <td>0.010638</td>\n",
       "    </tr>\n",
       "    <tr>\n",
       "      <th>185</th>\n",
       "      <td>186</td>\n",
       "      <td>Eritrea</td>\n",
       "      <td>0.267</td>\n",
       "      <td>5.0</td>\n",
       "      <td>3.9</td>\n",
       "      <td>179</td>\n",
       "      <td>Africa</td>\n",
       "      <td>0.047872</td>\n",
       "    </tr>\n",
       "    <tr>\n",
       "      <th>186</th>\n",
       "      <td>187</td>\n",
       "      <td>Burkina Faso</td>\n",
       "      <td>0.262</td>\n",
       "      <td>7.7</td>\n",
       "      <td>1.4</td>\n",
       "      <td>185</td>\n",
       "      <td>Africa</td>\n",
       "      <td>0.015957</td>\n",
       "    </tr>\n",
       "    <tr>\n",
       "      <th>187</th>\n",
       "      <td>188</td>\n",
       "      <td>Niger</td>\n",
       "      <td>0.206</td>\n",
       "      <td>5.4</td>\n",
       "      <td>1.7</td>\n",
       "      <td>187</td>\n",
       "      <td>Africa</td>\n",
       "      <td>0.005319</td>\n",
       "    </tr>\n",
       "  </tbody>\n",
       "</table>\n",
       "<p>188 rows × 8 columns</p>\n",
       "</div>"
      ],
      "text/plain": [
       "    Rank        Country  EducationIndex Expected yearsof schooling  \\\n",
       "0      1      Australia           0.939                       20.4   \n",
       "1      2        Denmark           0.923                       19.2   \n",
       "2      3    New Zealand           0.917                       19.2   \n",
       "3      4         Norway           0.916                       17.7   \n",
       "4      5        Germany           0.914                       17.1   \n",
       "..   ...            ...             ...                        ...   \n",
       "183  184    South Sudan           0.297                        4.9   \n",
       "184  185           Chad           0.280                        7.3   \n",
       "185  186        Eritrea           0.267                        5.0   \n",
       "186  187   Burkina Faso           0.262                        7.7   \n",
       "187  188          Niger           0.206                        5.4   \n",
       "\n",
       "     Mean years of schooling  HDI rank Continent[6]\\n  HDI value  \n",
       "0                       13.2         2        Oceania   0.989362  \n",
       "1                       12.7         5         Europe   0.973404  \n",
       "2                       12.5        13        Oceania   0.930851  \n",
       "3                       12.7         1         Europe   0.994681  \n",
       "4                       13.2         4         Europe   0.978723  \n",
       "..                       ...       ...            ...        ...  \n",
       "183                      4.8       181         Africa   0.037234  \n",
       "184                      2.3       186         Africa   0.010638  \n",
       "185                      3.9       179         Africa   0.047872  \n",
       "186                      1.4       185         Africa   0.015957  \n",
       "187                      1.7       187         Africa   0.005319  \n",
       "\n",
       "[188 rows x 8 columns]"
      ]
     },
     "execution_count": 116,
     "metadata": {},
     "output_type": "execute_result"
    }
   ],
   "source": [
    "df[\"HDI rank\"] = pd.to_numeric(df[\"HDI rank\"])\n",
    "df[\"HDI value\"] = (1-(df[\"HDI rank\"]/188))\n",
    "df"
   ]
  },
  {
   "cell_type": "markdown",
   "metadata": {},
   "source": [
    "This chunk of code is going to add another column which will be a conditional value either \"over\" or \"under\" depednent if the EducationIndex is over or under the mean of .64"
   ]
  },
  {
   "cell_type": "code",
   "execution_count": 119,
   "metadata": {},
   "outputs": [
    {
     "data": {
      "text/html": [
       "<div>\n",
       "<style scoped>\n",
       "    .dataframe tbody tr th:only-of-type {\n",
       "        vertical-align: middle;\n",
       "    }\n",
       "\n",
       "    .dataframe tbody tr th {\n",
       "        vertical-align: top;\n",
       "    }\n",
       "\n",
       "    .dataframe thead th {\n",
       "        text-align: right;\n",
       "    }\n",
       "</style>\n",
       "<table border=\"1\" class=\"dataframe\">\n",
       "  <thead>\n",
       "    <tr style=\"text-align: right;\">\n",
       "      <th></th>\n",
       "      <th>Rank</th>\n",
       "      <th>Country</th>\n",
       "      <th>EducationIndex</th>\n",
       "      <th>Expected yearsof schooling</th>\n",
       "      <th>Mean years of schooling</th>\n",
       "      <th>HDI rank</th>\n",
       "      <th>Continent[6]\\n</th>\n",
       "      <th>HDI value</th>\n",
       "      <th>OverUnder</th>\n",
       "    </tr>\n",
       "  </thead>\n",
       "  <tbody>\n",
       "    <tr>\n",
       "      <th>0</th>\n",
       "      <td>1</td>\n",
       "      <td>Australia</td>\n",
       "      <td>0.939</td>\n",
       "      <td>20.4</td>\n",
       "      <td>13.2</td>\n",
       "      <td>2</td>\n",
       "      <td>Oceania</td>\n",
       "      <td>0.989362</td>\n",
       "      <td>over</td>\n",
       "    </tr>\n",
       "    <tr>\n",
       "      <th>1</th>\n",
       "      <td>2</td>\n",
       "      <td>Denmark</td>\n",
       "      <td>0.923</td>\n",
       "      <td>19.2</td>\n",
       "      <td>12.7</td>\n",
       "      <td>5</td>\n",
       "      <td>Europe</td>\n",
       "      <td>0.973404</td>\n",
       "      <td>over</td>\n",
       "    </tr>\n",
       "    <tr>\n",
       "      <th>2</th>\n",
       "      <td>3</td>\n",
       "      <td>New Zealand</td>\n",
       "      <td>0.917</td>\n",
       "      <td>19.2</td>\n",
       "      <td>12.5</td>\n",
       "      <td>13</td>\n",
       "      <td>Oceania</td>\n",
       "      <td>0.930851</td>\n",
       "      <td>over</td>\n",
       "    </tr>\n",
       "    <tr>\n",
       "      <th>3</th>\n",
       "      <td>4</td>\n",
       "      <td>Norway</td>\n",
       "      <td>0.916</td>\n",
       "      <td>17.7</td>\n",
       "      <td>12.7</td>\n",
       "      <td>1</td>\n",
       "      <td>Europe</td>\n",
       "      <td>0.994681</td>\n",
       "      <td>over</td>\n",
       "    </tr>\n",
       "    <tr>\n",
       "      <th>4</th>\n",
       "      <td>5</td>\n",
       "      <td>Germany</td>\n",
       "      <td>0.914</td>\n",
       "      <td>17.1</td>\n",
       "      <td>13.2</td>\n",
       "      <td>4</td>\n",
       "      <td>Europe</td>\n",
       "      <td>0.978723</td>\n",
       "      <td>over</td>\n",
       "    </tr>\n",
       "    <tr>\n",
       "      <th>...</th>\n",
       "      <td>...</td>\n",
       "      <td>...</td>\n",
       "      <td>...</td>\n",
       "      <td>...</td>\n",
       "      <td>...</td>\n",
       "      <td>...</td>\n",
       "      <td>...</td>\n",
       "      <td>...</td>\n",
       "      <td>...</td>\n",
       "    </tr>\n",
       "    <tr>\n",
       "      <th>183</th>\n",
       "      <td>184</td>\n",
       "      <td>South Sudan</td>\n",
       "      <td>0.297</td>\n",
       "      <td>4.9</td>\n",
       "      <td>4.8</td>\n",
       "      <td>181</td>\n",
       "      <td>Africa</td>\n",
       "      <td>0.037234</td>\n",
       "      <td>under</td>\n",
       "    </tr>\n",
       "    <tr>\n",
       "      <th>184</th>\n",
       "      <td>185</td>\n",
       "      <td>Chad</td>\n",
       "      <td>0.280</td>\n",
       "      <td>7.3</td>\n",
       "      <td>2.3</td>\n",
       "      <td>186</td>\n",
       "      <td>Africa</td>\n",
       "      <td>0.010638</td>\n",
       "      <td>under</td>\n",
       "    </tr>\n",
       "    <tr>\n",
       "      <th>185</th>\n",
       "      <td>186</td>\n",
       "      <td>Eritrea</td>\n",
       "      <td>0.267</td>\n",
       "      <td>5.0</td>\n",
       "      <td>3.9</td>\n",
       "      <td>179</td>\n",
       "      <td>Africa</td>\n",
       "      <td>0.047872</td>\n",
       "      <td>under</td>\n",
       "    </tr>\n",
       "    <tr>\n",
       "      <th>186</th>\n",
       "      <td>187</td>\n",
       "      <td>Burkina Faso</td>\n",
       "      <td>0.262</td>\n",
       "      <td>7.7</td>\n",
       "      <td>1.4</td>\n",
       "      <td>185</td>\n",
       "      <td>Africa</td>\n",
       "      <td>0.015957</td>\n",
       "      <td>under</td>\n",
       "    </tr>\n",
       "    <tr>\n",
       "      <th>187</th>\n",
       "      <td>188</td>\n",
       "      <td>Niger</td>\n",
       "      <td>0.206</td>\n",
       "      <td>5.4</td>\n",
       "      <td>1.7</td>\n",
       "      <td>187</td>\n",
       "      <td>Africa</td>\n",
       "      <td>0.005319</td>\n",
       "      <td>under</td>\n",
       "    </tr>\n",
       "  </tbody>\n",
       "</table>\n",
       "<p>188 rows × 9 columns</p>\n",
       "</div>"
      ],
      "text/plain": [
       "    Rank        Country  EducationIndex Expected yearsof schooling  \\\n",
       "0      1      Australia           0.939                       20.4   \n",
       "1      2        Denmark           0.923                       19.2   \n",
       "2      3    New Zealand           0.917                       19.2   \n",
       "3      4         Norway           0.916                       17.7   \n",
       "4      5        Germany           0.914                       17.1   \n",
       "..   ...            ...             ...                        ...   \n",
       "183  184    South Sudan           0.297                        4.9   \n",
       "184  185           Chad           0.280                        7.3   \n",
       "185  186        Eritrea           0.267                        5.0   \n",
       "186  187   Burkina Faso           0.262                        7.7   \n",
       "187  188          Niger           0.206                        5.4   \n",
       "\n",
       "     Mean years of schooling  HDI rank Continent[6]\\n  HDI value OverUnder  \n",
       "0                       13.2         2        Oceania   0.989362      over  \n",
       "1                       12.7         5         Europe   0.973404      over  \n",
       "2                       12.5        13        Oceania   0.930851      over  \n",
       "3                       12.7         1         Europe   0.994681      over  \n",
       "4                       13.2         4         Europe   0.978723      over  \n",
       "..                       ...       ...            ...        ...       ...  \n",
       "183                      4.8       181         Africa   0.037234     under  \n",
       "184                      2.3       186         Africa   0.010638     under  \n",
       "185                      3.9       179         Africa   0.047872     under  \n",
       "186                      1.4       185         Africa   0.015957     under  \n",
       "187                      1.7       187         Africa   0.005319     under  \n",
       "\n",
       "[188 rows x 9 columns]"
      ]
     },
     "execution_count": 119,
     "metadata": {},
     "output_type": "execute_result"
    }
   ],
   "source": [
    "def f(row):\n",
    "    if row['EducationIndex']>=.64:\n",
    "        val = \"over\"\n",
    "    else:\n",
    "        val = \"under\"\n",
    "    return val\n",
    "df['OverUnder'] = df.apply(f, axis=1)\n",
    "df"
   ]
  },
  {
   "cell_type": "markdown",
   "metadata": {},
   "source": [
    "\n",
    "\n",
    "This graph is a boxplot showing the distribution of the over and under assigned countires and their correspoding HDI value (Human Development Index)"
   ]
  },
  {
   "cell_type": "code",
   "execution_count": 126,
   "metadata": {},
   "outputs": [
    {
     "data": {
      "image/png": "[encoded data removed]",
      "text/plain": [
       "<Figure size 432x288 with 1 Axes>"
      ]
     },
     "metadata": {
      "needs_background": "light"
     },
     "output_type": "display_data"
    }
   ],
   "source": [
    "sns.boxplot(x = \"OverUnder\", y = \"HDI value\", palette = [\"lightblue\",\"lightyellow\"], data = df)\n",
    "sns.despine(offset = 10)"
   ]
  },
  {
   "cell_type": "markdown",
   "metadata": {},
   "source": [
    "I will be running the same t-test shown in the example to see the difference between "
   ]
  },
  {
   "cell_type": "markdown",
   "metadata": {},
   "source": [
    "(i) &nbsp;  H<sub>o</sub>: $\\mu$<sub>1</sub> = $\\mu$<sub>2</sub> <br>\n",
    "&nbsp;&nbsp;&nbsp;&nbsp;&nbsp;    H<sub>a</sub>: $\\mu$<sub>1</sub> < $\\mu$<sub>2</sub>\n",
    "\n",
    "(ii) Find the test statistic:\n",
    "\n",
    "t<sub>obs</sub> = $\\frac{(\\bar{x}_1 - \\bar{x}_2)} {√( \\frac{s1^2}{n_1} + \\frac{s2^2}{n_2} )}$"
   ]
  },
  {
   "cell_type": "code",
   "execution_count": 130,
   "metadata": {},
   "outputs": [
    {
     "name": "stdout",
     "output_type": "stream",
     "text": [
      "0.22963155163466517 0.7061421116017664\n",
      "0.15028518866886592 0.17863354009271476\n",
      "82 106\n"
     ]
    }
   ],
   "source": [
    "x_un=df.groupby(\"OverUnder\")[\"HDI value\"].mean()[\"under\"]\n",
    "x_ov=df.groupby(\"OverUnder\")[\"HDI value\"].mean()[\"over\"]\n",
    "print(x_un,x_ov)\n",
    "\n",
    "s_un=df.groupby(\"OverUnder\")[\"HDI value\"].std()[\"under\"]\n",
    "s_ov=df.groupby(\"OverUnder\")[\"HDI value\"].std()[\"over\"]\n",
    "print(s_un,s_ov)\n",
    "\n",
    "n_un=df.groupby(\"OverUnder\")[\"HDI value\"].count()[\"under\"]\n",
    "n_ov=df.groupby(\"OverUnder\")[\"HDI value\"].count()[\"over\"]\n",
    "print(n_un,n_ov)"
   ]
  },
  {
   "cell_type": "code",
   "execution_count": 137,
   "metadata": {},
   "outputs": [
    {
     "name": "stdout",
     "output_type": "stream",
     "text": [
      "-19.846480329053616\n",
      "184.65538882160965\n",
      "5.724927623482062e-48\n"
     ]
    }
   ],
   "source": [
    "tv=(x_un-x_ov)/(s_un**2/n_un+s_ov**2/n_ov)**(1/2)\n",
    "print(tv)\n",
    "\n",
    "degree=(s_un**2/n_un+s_ov**2/n_ov)**2/((s_un**2/(n_un))**2/(n_un-1)+(s_ov**2/(n_ov))**2/(n_ov-1))\n",
    "print(degree)\n",
    "\n",
    "t_dist=scipy.stats.t(degree)\n",
    "\n",
    "pv=t_dist.cdf(tv)\n",
    "print(pv)"
   ]
  },
  {
   "cell_type": "markdown",
   "metadata": {},
   "source": [
    "The P-Value is less than.05 therefore we can reject the null hypothesis, meaning that the reuslt is statistically significant.\n",
    "\n",
    "This means that the Educational Index has a high influence on the General Human Development of citizens within the country."
   ]
  },
  {
   "cell_type": "code",
   "execution_count": null,
   "metadata": {},
   "outputs": [],
   "source": []
  }
 ],
 "metadata": {
  "kernelspec": {
   "display_name": "Python 3",
   "language": "python",
   "name": "python3"
  },
  "language_info": {
   "codemirror_mode": {
    "name": "ipython",
    "version": 3
   },
   "file_extension": ".py",
   "mimetype": "text/x-python",
   "name": "python",
   "nbconvert_exporter": "python",
   "pygments_lexer": "ipython3",
   "version": "3.7.6"
  }
 },
 "nbformat": 4,
 "nbformat_minor": 4
}
